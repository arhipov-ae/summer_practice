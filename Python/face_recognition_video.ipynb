{
 "cells": [
  {
   "cell_type": "code",
   "execution_count": 1,
   "metadata": {},
   "outputs": [],
   "source": [
    "import cv2 \n",
    "import numpy as np\n",
    "import matplotlib.pyplot as plt"
   ]
  },
  {
   "cell_type": "markdown",
   "metadata": {},
   "source": [
    "Была взята готовая НС архетектуры SSD\n",
    "\n",
    "- deploy.prototxt — файл описывающий слои нашей нейронной сети.\n",
    "- caffemodel — веса, вычисленные во время тренировки модели."
   ]
  },
  {
   "cell_type": "code",
   "execution_count": 2,
   "metadata": {},
   "outputs": [],
   "source": [
    "protoFile = \"deploy.prototxt.txt\"\n",
    "weightsFile = \"res10_300x300_ssd_iter_140000_fp16.caffemodel\""
   ]
  },
  {
   "cell_type": "markdown",
   "metadata": {},
   "source": [
    "Загрузка модели"
   ]
  },
  {
   "cell_type": "code",
   "execution_count": 3,
   "metadata": {},
   "outputs": [],
   "source": [
    "model = cv2.dnn.readNetFromCaffe(protoFile, weightsFile)"
   ]
  },
  {
   "cell_type": "markdown",
   "metadata": {},
   "source": [
    "# Получение изображения с вебкамеры\n",
    "В окне с названием \"camera\" будет отображаться видео. \n",
    "Окно будет закрыто после нажатия Esc."
   ]
  },
  {
   "cell_type": "code",
   "execution_count": 4,
   "metadata": {},
   "outputs": [],
   "source": [
    "#Захватываем веб камеру. 0 — это индекс камеры, если их несколько то будет 0 или 1 и т.д.\n",
    "cap = cv2.VideoCapture(0)\n",
    "while True:\n",
    "    # Читаем с устройства кадр(картинку) , метод возвращает флаг ret (True , False) и \n",
    "    # imgage — саму картинку ( массив numpy) .\n",
    "    ret, image = cap.read()\n",
    "    # В окне \"camera\" будут отображаться кадры с камеры\n",
    "    cv2.imshow(\"camera\", image)\n",
    "    if cv2.waitKey(10) == 27: # Клавиша Esc\n",
    "        break\n",
    "cap.release()\n",
    "cv2.destroyAllWindows()"
   ]
  },
  {
   "cell_type": "markdown",
   "metadata": {},
   "source": [
    "По аналогии с распознованием одного изображения будет происходить распознования кадров видео. "
   ]
  },
  {
   "cell_type": "code",
   "execution_count": 5,
   "metadata": {},
   "outputs": [],
   "source": [
    "cap = cv2.VideoCapture(0)\n",
    "while True:\n",
    "    ret, image = cap.read()\n",
    "    height, width = image.shape[:2]\n",
    "    blob = cv2.dnn.blobFromImage(image, 1.0, (300, 300), (104.0, 177.0, 123.0))\n",
    "    model.setInput(blob)\n",
    "    output = np.squeeze(model.forward())\n",
    "    for i in range(0, output.shape[0]):\n",
    "        confidence = output[i, 2]\n",
    "        if confidence > 0.5:\n",
    "            box = output[i, 3:7] * np.array([width, height, width, height])\n",
    "            start_x, start_y, end_x, end_y = box.astype(np.int)\n",
    "            cv2.rectangle(image, (start_x, start_y), (end_x, end_y), color=(255, 0, 0), thickness=2)\n",
    "            cv2.putText(image, f\"{confidence*100:.2f}%\", (start_x, start_y-5), cv2.FONT_HERSHEY_SIMPLEX, 0.5, (255, 0, 0), 2)\n",
    "    # show the image\n",
    "    cv2.imshow(\"camera\", image)\n",
    "    if cv2.waitKey(10) == 27: \n",
    "        break\n",
    "        \n",
    "cap.release()\n",
    "cv2.destroyAllWindows()"
   ]
  },
  {
   "cell_type": "code",
   "execution_count": null,
   "metadata": {},
   "outputs": [],
   "source": []
  }
 ],
 "metadata": {
  "kernelspec": {
   "display_name": "Python 3",
   "language": "python",
   "name": "python3"
  },
  "language_info": {
   "codemirror_mode": {
    "name": "ipython",
    "version": 3
   },
   "file_extension": ".py",
   "mimetype": "text/x-python",
   "name": "python",
   "nbconvert_exporter": "python",
   "pygments_lexer": "ipython3",
   "version": "3.8.2"
  }
 },
 "nbformat": 4,
 "nbformat_minor": 2
}
